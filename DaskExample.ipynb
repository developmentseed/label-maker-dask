{
 "cells": [
  {
   "cell_type": "code",
   "execution_count": 2,
   "id": "7d1ae676",
   "metadata": {},
   "outputs": [],
   "source": [
    "import coiled\n",
    "from typing import List, Dict, Any\n",
    "import json\n",
    "\n",
    "import dask\n",
    "from dask.distributed import Client\n",
    "from mercantile import tiles, bounds\n",
    "import numpy as np\n",
    "import fiona\n",
    "\n",
    "from label_maker.label import make_labels\n",
    "from label_maker.filter import create_filter\n",
    "from label_maker.utils import get_image_function"
   ]
  },
  {
   "cell_type": "code",
   "execution_count": 2,
   "id": "ec331354",
   "metadata": {},
   "outputs": [],
   "source": [
    "class LabelMakerJob():\n",
    "    def __init__(self, zoom: int=None, bounds: List[float]=None, classes: List[Dict[Any, Any]]=None, imagery: str=None, label_source:str=None, ml_type:str=None):\n",
    "        \"\"\"initialize new label maker job for dask\"\"\"\n",
    "        self.zoom = zoom\n",
    "        self.bounds = bounds\n",
    "        self.classes = classes\n",
    "        self.imagery = imagery\n",
    "        self.label_source = label_source\n",
    "        self.ml_type = ml_type\n",
    "        self.results = None\n",
    "\n",
    "    def build_job(self):\n",
    "        self.tile_list = list(tiles(*self.bounds, [self.zoom]))\n",
    "        label_tups = [self.label(tile) for tile in self.tile_list]\n",
    "        self.tasks = [self.get_image(tup) for tup in label_tups]\n",
    "        print(\"Sample graph\")\n",
    "        return dask.visualize(self.tasks[:3])\n",
    "\n",
    "    def execute_job(self):\n",
    "        self.results = dask.compute(*self.tasks)\n",
    "        \n",
    "    def n_tiles(self):\n",
    "        try:\n",
    "            return len(self.tile_list)\n",
    "        except AttributeError:\n",
    "            print(\"Call build_job first to construct a tile list\")\n",
    "            return None\n",
    "    \n",
    "    @dask.delayed\n",
    "    def label(self, tile):\n",
    "        \"\"\"\n",
    "        Parameters\n",
    "        ------------\n",
    "        tile: mercantile.Tile\n",
    "            tile index\n",
    "        label_job: dict\n",
    "            Job definition\n",
    "        Returns\n",
    "        ---------\n",
    "        label: tuple\n",
    "            The first element is a mercantile tile. The second element is a numpy array\n",
    "            representing the label of the tile\n",
    "        \"\"\"\n",
    "        ml_type = self.ml_type\n",
    "        classes = self.classes\n",
    "        label_source = self.label_source\n",
    "\n",
    "        tile_bounds = bounds(tile)\n",
    "        features = []\n",
    "\n",
    "        with fiona.open(label_source, 'r') as src:\n",
    "            for f in src.filter(bbox=(tile_bounds.west, tile_bounds.south, tile_bounds.east, tile_bounds.north)):\n",
    "                f['properties'] = json.loads(f['properties']['json'])\n",
    "                features.append(f)\n",
    "                \n",
    "        # if ml_type == 'classification':\n",
    "        class_counts = np.zeros(len(classes) + 1, dtype=np.int32)\n",
    "        for i, cl in enumerate(classes):\n",
    "            ff = create_filter(cl.get('filter'))\n",
    "            class_counts[i + 1] = int(bool([f for f in features if ff(f)]))\n",
    "        # if there are no classes, activate the background\n",
    "        if np.sum(class_counts) == 0:\n",
    "            class_counts[0] = 1\n",
    "            \n",
    "        return (tile, class_counts)\n",
    "\n",
    "    @dask.delayed\n",
    "    def get_image(self, tup):\n",
    "        tile, label = tup\n",
    "        image_function = get_image_function(self.imagery)\n",
    "        return (tile, label, np.random.rand(256, 256, 3))"
   ]
  },
  {
   "cell_type": "code",
   "execution_count": 3,
   "id": "cd24a9fc",
   "metadata": {},
   "outputs": [],
   "source": [
    "lmj = LabelMakerJob(\n",
    "    zoom=13,\n",
    "    bounds=[-44.48364257812499, -23.026659627974098, -42.4127197265625, -22.085639901650328],\n",
    "    classes=[\n",
    "        { \"name\": \"Roads\", \"filter\": [\"has\", \"highway\"] },\n",
    "        { \"name\": \"Buildings\", \"filter\": [\"has\", \"building\"] }\n",
    "      ],\n",
    "    imagery=\"http://a.tiles.mapbox.com/v4/mapbox.satellite/{z}/{x}/{y}.jpg?access_token=ACCESS_TOKEN\",\n",
    "    ml_type=\"classification\",\n",
    "    label_source=\"s3://fgb-explore/brazil.fgb\"\n",
    ")"
   ]
  },
  {
   "cell_type": "code",
   "execution_count": 4,
   "id": "526baca7",
   "metadata": {},
   "outputs": [],
   "source": [
    "ENV = \"label-maker-dask-env\"\n",
    "# coiled.create_software_environment(\n",
    "#    name=ENV,\n",
    "#    pip=[\n",
    "#         \"dask[complete]\",\n",
    "#         \"xarray==0.15.1\",\n",
    "#         \"toolz\",\n",
    "#         \"numpy\",\n",
    "#         \"requests\",\n",
    "#         \"mercantile\",\n",
    "#         \"rasterio\",\n",
    "#         \"shapely\",\n",
    "#         \"fiona\",\n",
    "#         \"boto3\",\n",
    "#         \"label-maker\"\n",
    "#     ],\n",
    "#     conda={\"channels\": [\"conda-forge\"], \"dependencies\": [\"python==3.8.10\"]}\n",
    "# )"
   ]
  },
  {
   "cell_type": "code",
   "execution_count": 5,
   "id": "fc499522",
   "metadata": {},
   "outputs": [
    {
     "data": {
      "application/vnd.jupyter.widget-view+json": {
       "model_id": "",
       "version_major": 2,
       "version_minor": 0
      },
      "text/plain": [
       "Output()"
      ]
     },
     "metadata": {},
     "output_type": "display_data"
    },
    {
     "name": "stdout",
     "output_type": "stream",
     "text": [
      "Found software environment build\n",
      "Created FW rules: coiled-dask-drewbo-39113-firewall\n",
      "Created scheduler VM: coiled-dask-drewbo-39113-scheduler (ip: ['34.237.137.222'])\n"
     ]
    },
    {
     "data": {
      "text/html": [
       "<pre style=\"white-space:pre;overflow-x:auto;line-height:normal;font-family:Menlo,'DejaVu Sans Mono',consolas,'Courier New',monospace\"></pre>\n"
      ],
      "text/plain": []
     },
     "metadata": {},
     "output_type": "display_data"
    }
   ],
   "source": [
    "# cluster = coiled.Cluster(name=\"drewbo-123bdc47-4\")\n",
    "cluster = coiled.Cluster(n_workers=8, software=ENV, worker_cpu=1, worker_memory=\"2 GiB\", backend_options=dict(region=\"us-east-1\"))"
   ]
  },
  {
   "cell_type": "code",
   "execution_count": null,
   "id": "9f8b3999",
   "metadata": {},
   "outputs": [],
   "source": [
    "client = Client(cluster)\n",
    "client.dashboard_link"
   ]
  },
  {
   "cell_type": "code",
   "execution_count": null,
   "id": "7b95b841",
   "metadata": {},
   "outputs": [],
   "source": [
    "lmj.build_job()"
   ]
  },
  {
   "cell_type": "code",
   "execution_count": null,
   "id": "596925b2",
   "metadata": {},
   "outputs": [],
   "source": [
    "lmj.n_tiles()"
   ]
  },
  {
   "cell_type": "code",
   "execution_count": null,
   "id": "5ba179d5",
   "metadata": {},
   "outputs": [],
   "source": [
    "lmj.execute_job()"
   ]
  },
  {
   "cell_type": "code",
   "execution_count": null,
   "id": "363528e6",
   "metadata": {},
   "outputs": [],
   "source": [
    "lmj.results[0]"
   ]
  },
  {
   "cell_type": "code",
   "execution_count": null,
   "id": "ba5ad522",
   "metadata": {},
   "outputs": [],
   "source": [
    "pickle.dumps(lmj)"
   ]
  },
  {
   "cell_type": "code",
   "execution_count": null,
   "id": "f63464ed",
   "metadata": {},
   "outputs": [],
   "source": [
    "%matplotlib inline\n",
    "dask.visualize(results[:3])"
   ]
  },
  {
   "cell_type": "code",
   "execution_count": null,
   "id": "af1deaf5",
   "metadata": {},
   "outputs": [],
   "source": [
    "results_out = dask.compute(*results)"
   ]
  },
  {
   "cell_type": "code",
   "execution_count": null,
   "id": "907432de",
   "metadata": {},
   "outputs": [],
   "source": [
    "results_out"
   ]
  },
  {
   "cell_type": "code",
   "execution_count": null,
   "id": "9c563785",
   "metadata": {},
   "outputs": [],
   "source": [
    "lmj.thing_it_doesnt_have"
   ]
  },
  {
   "cell_type": "code",
   "execution_count": null,
   "id": "da6a7395",
   "metadata": {},
   "outputs": [],
   "source": []
  }
 ],
 "metadata": {
  "kernelspec": {
   "display_name": "Python 3 (ipykernel)",
   "language": "python",
   "name": "python3"
  },
  "language_info": {
   "codemirror_mode": {
    "name": "ipython",
    "version": 3
   },
   "file_extension": ".py",
   "mimetype": "text/x-python",
   "name": "python",
   "nbconvert_exporter": "python",
   "pygments_lexer": "ipython3",
   "version": "3.8.10"
  }
 },
 "nbformat": 4,
 "nbformat_minor": 5
}
